{
 "cells": [
  {
   "cell_type": "markdown",
   "metadata": {},
   "source": [
    "**Tarea 4: Gabriel Alvarez Castrillo C00368**"
   ]
  },
  {
   "cell_type": "markdown",
   "metadata": {},
   "source": [
    "```c++\n",
    "#include <iostream>\n",
    "#include <complex>\n",
    "#include <omp.h> \n",
    "\n",
    "// Función para determinar si un número c está fuera o dentro del conjunto\n",
    "// de Maldenbrot con la cantidad de iteraciones máximas\n",
    "int mandelbrot(const std::complex<double> &c, const int &maxits){\n",
    "  std::complex<double> z = 0;\n",
    "  int n = 0;\n",
    "  while(abs(z) <= 2 && n < maxits){\n",
    "    z = z * z + c;\n",
    "    ++n;\n",
    "  }\n",
    "    \n",
    "  return n;\n",
    "}\n",
    "\n",
    "int main(){\n",
    "\n",
    "  // Ancho y alto de la salida del programa\n",
    "  int width = 150;\n",
    "  int height = 45;\n",
    "  // Número máximo de iteraciones (corte)\n",
    "  int max_iter = 1000;\n",
    "  // Coordenadas en el plano complejo máximas y mínimas\n",
    "  double minX = -2.0, maxX = 1.0;\n",
    "  double minY = -1.0, maxY = 1.0;\n",
    "\n",
    "  // Rutina principal para generar e imprimir el conjunto\n",
    "  #pragma omp parallel for\n",
    "  for(int y = 0; y < height; ++y){\n",
    "    std::string line;  // Buffer local para almacenar la línea antes de imprimir\n",
    "    for(int x = 0; x < width; ++x){\n",
    "      // Mapeo de pixeles a número complejo\n",
    "      std::complex<double> c( minX + (maxX - minX) * x / width,\n",
    "                              minY + (maxY - minY) * y / height );\n",
    "\n",
    "      // Cálculo del número de iteraciones\n",
    "      int n = mandelbrot(c, max_iter);\n",
    "\n",
    "      // Se imprime un caracter dependiendo del número de iteraciones\n",
    "      if(n == max_iter){\n",
    "        std::cout << '#'; // Dentro del conjunto de Mandelbrot\n",
    "      } \n",
    "      else{\n",
    "        std::cout << '.'; // Fuera del conjunto de Mandelbrot\n",
    "      }\n",
    "    }\n",
    "    std::cout << std::endl; // Siguiente línea en y\n",
    "  }\n",
    "\n",
    "  return 0;\n",
    "}\n",
    "\n",
    "```"
   ]
  },
  {
   "cell_type": "markdown",
   "metadata": {},
   "source": [
    "Donde los cambios para paralelización se hicieron en la siguiente sección:\n",
    "```c++\n",
    "// Rutina principal para generar e imprimir el conjunto\n",
    "  #pragma omp parallel for\n",
    "  for(int y = 0; y < height; ++y){\n",
    "    std::string line;  // Buffer local para almacenar la línea antes de imprimir\n",
    "    for(int x = 0; x < width; ++x){\n",
    "```\n",
    "\n",
    "Y se puede paralelizar esta parte porque, la evaluación de cada punto es independiente de los demás, por lo que el cálculo de Mandelbrot en cada píxel puede realizarse en paralelo. Y el bucle externo con \"y\" es el ideal ya que cada hilo puede procesar una fila completa sin interferencia entre hilos."
   ]
  },
  {
   "cell_type": "markdown",
   "metadata": {},
   "source": []
  }
 ],
 "metadata": {
  "language_info": {
   "name": "python"
  }
 },
 "nbformat": 4,
 "nbformat_minor": 2
}
