{
 "cells": [
  {
   "cell_type": "markdown",
   "id": "a25f4f03",
   "metadata": {},
   "source": [
    "*Tarea 1: Gabriel Alvarez Castrillo C00368*\n"
   ]
  },
  {
   "cell_type": "markdown",
   "id": "eee572f2",
   "metadata": {},
   "source": [
    "Parte 1:"
   ]
  },
  {
   "cell_type": "code",
   "execution_count": null,
   "id": "9fe357b3",
   "metadata": {},
   "outputs": [],
   "source": []
  }
 ],
 "metadata": {
  "kernelspec": {
   "display_name": "Python 3 (ipykernel)",
   "language": "python",
   "name": "python3"
  },
  "language_info": {
   "codemirror_mode": {
    "name": "ipython",
    "version": 3
   },
   "file_extension": ".py",
   "mimetype": "text/x-python",
   "name": "python",
   "nbconvert_exporter": "python",
   "pygments_lexer": "ipython3",
   "version": "3.12.3"
  }
 },
 "nbformat": 4,
 "nbformat_minor": 5
}
