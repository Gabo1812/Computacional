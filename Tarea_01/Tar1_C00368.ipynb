{
 "cells": [
  {
   "cell_type": "markdown",
   "id": "a25f4f03",
   "metadata": {},
   "source": [
    "*Tarea 1: Gabriel Alvarez Castrillo C00368*\n"
   ]
  },
  {
   "cell_type": "markdown",
   "id": "eee572f2",
   "metadata": {},
   "source": [
    "Problema 1:"
   ]
  },
  {
   "cell_type": "markdown",
   "id": "22afffd1",
   "metadata": {},
   "source": [
    "a)\n",
    "Este sería el primer script, que lo que hace es crear una función que toma como argumento la cantidad de numeros aleatorio (N) y la cantidad de archivo que quiereo generar serían i+1 porque el for empieza en 0,y me genera (i+1) archivos.dat con N números aleatorios\n",
    "```bash\n",
    "#!/bin/bash\n",
    "# Asigno la cantidad de numeros aleatorios N a utilizar y la cantidad de archivos i que quiero utilizar\n",
    "N=$1  #Primer argumento de la func.\n",
    "i=$2  #Segundo argumento de la func.\n",
    "# Ahora vamos a generar 5 archivos ( desde i=0 hasta algún valor i) usando un  ciclo for\n",
    "for j in $(seq 0 $i) # Genera un rango de 0 hasta i\n",
    "do\n",
    "        # Ejecuta random.sh y filtra solo líneas con números y extrae los primeros N valores \n",
    "        selected_numbers=$(./random.sh | grep -E \"^[0-9]+$\"| head -n \"$N\")\n",
    "\n",
    "        # Generar el nombre del archivo \n",
    "        output_file=\"rand_${j}_${N}.dat\"\n",
    "\n",
    "        # Guardar los números en el archivo\n",
    "        echo \"$selected_numbers\" > \"$output_file\"\n",
    "\n",
    "        # Confirmar la creación del archivo\n",
    "        echo \"Archivo generado: $output_file\"\n",
    "done\n",
    "```\n",
    "Donde ```seq:``` lo utilizamos para generar una secuacia de numeros de 0 hasta i.\n",
    "\n",
    "Y ```grep``` lo que me hace es filtrar lo que me genera random.sh para que solo me de numeros y luego el pipe es para extraer los primeros N números filtrados de random.sh"
   ]
  },
  {
   "cell_type": "markdown",
   "id": "5226263b",
   "metadata": {},
   "source": [
    "Ahora en la terminal lo invocamos de la siguiente manera:\n",
    "Donde 5 sería N, la cantidad de valores random a utilizar y 4 sería i. Lo que me generaría 5 archivos.dat.\n",
    "```bash\n",
    "chmod +x generar_random.sh \n",
    "./generar_random.sh 5 4\n",
    "\n"
   ]
  },
  {
   "cell_type": "markdown",
   "id": "5bdbd79e",
   "metadata": {},
   "source": [
    "b) Este segundo script, me concatena los archivos.dat generados por el script del paso anterior, usando el comando paste, lo que me genera una matriz de N filas e i+1 columnas.\n",
    "\n",
    "Y la guarda en un archivo que se va a llamar rand_combined.dat\n",
    "```bash\n",
    "#!/bin/bash\n",
    "\n",
    "# Definir el archivo de salida\n",
    "output_file=\"rand_combined.dat\"\n",
    "\n",
    "# Concatenar los archivos en columnas y guardarlo en un nuevo archivo\n",
    "paste rand_*.dat > \"$output_file\"\n",
    "\n",
    "# Confirmar que la concatenación se ha realizado\n",
    "echo \"Archivos concatenados en columnas en el archivo: $output_file\"\n"
   ]
  },
  {
   "cell_type": "markdown",
   "id": "7a040fc4",
   "metadata": {},
   "source": [
    "En la terminal lo invocamos de la siguiente forma:\n",
    "```bash\n",
    "chmod +x combina_data.sh \n",
    "./combina_data.sh "
   ]
  },
  {
   "cell_type": "markdown",
   "id": "00cb9e30",
   "metadata": {},
   "source": [
    "c)  Para ordenar de forma ascendente haremos lo siguiente:\n",
    "```bash\n",
    "sort -n -k1,1 rand_i_N.dat\n",
    "```\n",
    "Donde se usar el comando ```sort ```para ordenar, además de lo siguiente:\n",
    "\n",
    "```-n:``` Indica que los debe ordenar numericamente\n",
    "\n",
    "```-k1,1:``` Para que ordene la primer columna ( en caso de tener más de una columna)\n",
    "\n",
    "```rand_i_N.dat:``` Es el archivo que queremos ordenar\n",
    "\n",
    "Ahora, para ordenar de forma descendente haremos lo siguiente:\n",
    "```bash\n",
    "sort -n -k1,1 -r rand_i_N.dat\n",
    "```\n",
    "\n",
    "Donde lo diferente es ```-r``` para que invierta el orden.\n"
   ]
  },
  {
   "cell_type": "markdown",
   "id": "353f5238",
   "metadata": {},
   "source": [
    "d)"
   ]
  },
  {
   "cell_type": "markdown",
   "id": "19101148",
   "metadata": {},
   "source": [
    "Para ver cuanto espacio ocupa un fichero hacemos lo siguiente\n",
    "\n",
    "```bash\n",
    "ls -l rand_combined.dat | awk '{print $5}'\n",
    "```\n",
    "El comando solo para ver cuanto espacio ocupa es ```ls -l ```, pero solo esto devuelve muchos datos en la terminal, por lo que si usamos un pipe para solo printear el resultado de la quinta columna veriamos lo que nos interesa."
   ]
  },
  {
   "cell_type": "markdown",
   "id": "c075863a",
   "metadata": {},
   "source": [
    "Pero para convertir o ver este valor en KB, MG y GB tenemos que hacer lo siguiente:\n",
    "```bash\n",
    "bytes=$(ls -l rand_combined.dat | awk '{print $5}')\n",
    "# Convertir a kilobytes (KB)\n",
    "kb=$(echo \"$bytes / 1024\" | bc -l)\n",
    "\n",
    "# Convertir a megabytes (MB)\n",
    "mb=$(echo \"$bytes / 1024 / 1024\" | bc -l)\n",
    "\n",
    "# Convertir a gigabytes (GB)\n",
    "gb=$(echo \"$bytes / 1024 / 1024 / 1024\" | bc -l)\n",
    "\n",
    "# Mostrar los resultados\n",
    "echo \"Tamaño en KB: $kb\"\n",
    "echo \"Tamaño en MB: $mb\"\n",
    "echo \"Tamaño en GB: $gb\""
   ]
  }
 ],
 "metadata": {
  "kernelspec": {
   "display_name": "Python 3 (ipykernel)",
   "language": "python",
   "name": "python3"
  },
  "language_info": {
   "codemirror_mode": {
    "name": "ipython",
    "version": 3
   },
   "file_extension": ".py",
   "mimetype": "text/x-python",
   "name": "python",
   "nbconvert_exporter": "python",
   "pygments_lexer": "ipython3",
   "version": "3.12.3"
  }
 },
 "nbformat": 4,
 "nbformat_minor": 5
}
