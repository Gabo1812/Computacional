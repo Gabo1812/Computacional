{
 "cells": [
  {
   "cell_type": "markdown",
   "metadata": {},
   "source": [
    "**Tarea 4: Gabriel Alvarez Castrillo C00368**"
   ]
  },
  {
   "cell_type": "markdown",
   "metadata": {},
   "source": [
    "**PARTE I: MEMORIA COMPARTIDA**"
   ]
  },
  {
   "cell_type": "markdown",
   "metadata": {},
   "source": [
    "El codigo es el siguiente:\n",
    "\n",
    "```c++\n",
    "#include <iostream>\n",
    "#include <complex>\n",
    "#include <omp.h>\n",
    "\n",
    "// Función para determinar si un número c está fuera o dentro del conjunto\n",
    "// de Maldenbrot con la cantidad de iteraciones máximas\n",
    "int mandelbrot(const std::complex<double> &c, const int &maxits){\n",
    "  std::complex<double> z = 0;\n",
    "  int n = 0;\n",
    "  while(abs(z) <= 2 && n < maxits){\n",
    "    z = z * z + c;\n",
    "    ++n;\n",
    "  }\n",
    "    \n",
    "  return n;\n",
    "}\n",
    "\n",
    "int main(){\n",
    "\n",
    "  // Ancho y alto de la salida del programa\n",
    "  int width = 150;\n",
    "  int height = 45;\n",
    "  // Número máximo de iteraciones (corte)\n",
    "  int max_iter = 1000;\n",
    "  // Coordenadas en el plano complejo máximas y mínimas\n",
    "  double minX = -2.0, maxX = 1.0;\n",
    "  double minY = -1.0, maxY = 1.0;\n",
    "\n",
    "  // Rutina principal para generar e imprimir el conjunto\n",
    "  #pragma omp parallel for ordered\n",
    "  for(int y = 0; y < height; ++y){\n",
    "    #pragma omp ordered // Asegura que se impriman las líneas en orden\n",
    "    {\n",
    "      for(int x = 0; x < width; ++x){\n",
    "        // Mapeo de pixeles a número complejo\n",
    "        std::complex<double> c( minX + (maxX - minX) * x / width,\n",
    "                                minY + (maxY - minY) * y / height );\n",
    "\n",
    "        // Cálculo del número de iteraciones\n",
    "        int n = mandelbrot(c, max_iter);\n",
    "\n",
    "        // Se imprime un caracter dependiendo del número de iteraciones\n",
    "        if(n == max_iter){\n",
    "          std::cout << '#'; // Dentro del conjunto de Mandelbrot\n",
    "        } \n",
    "        else{\n",
    "          std::cout << '.'; // Fuera del conjunto de Mandelbrot\n",
    "        }\n",
    "      }\n",
    "      std::cout << std::endl; // Siguiente línea en y\n",
    "    }\n",
    "  }\n",
    "\n",
    "  return 0;\n",
    "}\n",
    "```"
   ]
  },
  {
   "cell_type": "markdown",
   "metadata": {},
   "source": [
    "Donde los cambios para paralelización se hicieron en la siguiente sección:\n",
    "```c++\n",
    "// Rutina principal para generar e imprimir el conjunto\n",
    "  #pragma omp parallel for ordered\n",
    "  for(int y = 0; y < height; ++y){\n",
    "    #pragma omp ordered // Asegura que se impriman las líneas en orden\n",
    "    for(int x = 0; x < width; ++x){\n",
    "```\n",
    "\n",
    "Y se puede paralelizar esta parte porque, la evaluación de cada punto es independiente de los demás, por lo que el cálculo de Mandelbrot en cada píxel puede realizarse en paralelo. Y el bucle externo con \"y\" es el ideal ya que cada hilo puede procesar una fila completa sin interferencia entre hilos.\n",
    "\n",
    "Además al utilizar ```#pragma omp ordered``` Nos aseguramos que se imprima en orden en la terminal y se vea de la misma forma tanto en serie como en paralelo, de la siguiente forma:"
   ]
  },
  {
   "attachments": {
    "FigParallel.png": {
     "image/png": "[encoded data removed]"
    }
   },
   "cell_type": "markdown",
   "metadata": {},
   "source": [
    "![FigParallel.png](attachment:FigParallel.png)"
   ]
  },
  {
   "cell_type": "markdown",
   "metadata": {},
   "source": [
    "**PARTE II: MEMORIA DISTRIBUIDA**"
   ]
  },
  {
   "cell_type": "markdown",
   "metadata": {},
   "source": [
    "El codigo es el siguiente:\n",
    "```c++\n",
    "#include <iostream>\n",
    "#include <mpi.h>\n",
    "#include <vector>\n",
    "#include <cstdlib>\n",
    "\n",
    "int main(int argc, char** argv) {\n",
    "    \n",
    "    MPI_Init(&argc, &argv); // Inicializa MPI\n",
    "\n",
    "    // Inicializa MPI y obtiene el rango y número de procesos\n",
    "    int rank, size;\n",
    "    MPI_Comm_rank(MPI_COMM_WORLD, &rank); // Obtiene el identificador del proceso\n",
    "    MPI_Comm_size(MPI_COMM_WORLD, &size); // Obtiene el número total de procesos\n",
    "    \n",
    "    // Verifica si se proporcionó un argumento (tamaño del vector)\n",
    "    if (argc != 2) {\n",
    "        if (rank == 0) {\n",
    "            std::cerr << \"Uso: \" << argv[0] << \" [tamaño del vector]\" << std::endl;\n",
    "        }\n",
    "        MPI_Finalize(); // Finaliza MPI\n",
    "        return 1;\n",
    "    }\n",
    "    \n",
    "    int N; \n",
    "    try {\n",
    "        N = std::stoi(argv[1]); // Tamaño de los vectores A y B\n",
    "    } catch (const std::invalid_argument& e) {\n",
    "        if (rank == 0) {\n",
    "            std::cerr << \"Error: El tamaño del vector debe ser múltiplo del número de procesos.\" << std::endl;\n",
    "        }\n",
    "        MPI_Finalize();\n",
    "        return 1;\n",
    "    }\n",
    "\n",
    "    // Calcula cuántos elementos tendrá cada proceso\n",
    "    int nlocal = N / size;\n",
    "    \n",
    "    // Vectores locales y globales\n",
    "    std::vector<int> local_a(nlocal), local_b(nlocal);\n",
    "    std::vector<int> a, b;\n",
    "\n",
    "    if (rank == 0) { // El proceso 0 inicializa los vectores globales\n",
    "        a.resize(N);\n",
    "        b.resize(N);\n",
    "        for (int i = 0; i < N; i++) {\n",
    "            a[i] = i + 1;  // a = [1, 2, 3, ..., N]\n",
    "            b[i] = i + 1;  // b = [1, 2, 3, ..., N]\n",
    "        }\n",
    "    }\n",
    "    \n",
    "    // Distribuye los datos de los vectores a todos los procesos\n",
    "    MPI_Scatter(a.data(), nlocal, MPI_INT, local_a.data(), nlocal, MPI_INT, 0, MPI_COMM_WORLD);\n",
    "    MPI_Scatter(b.data(), nlocal, MPI_INT, local_b.data(), nlocal, MPI_INT, 0, MPI_COMM_WORLD);\n",
    "    \n",
    "    // Cada proceso calcula su producto punto local\n",
    "    int productoLocal = 0;\n",
    "    for (int i = 0; i < nlocal; i++) {\n",
    "        productoLocal += local_a[i] * local_b[i];\n",
    "    }\n",
    "    \n",
    "    // Realiza una reducción para obtener el producto punto total en el proceso 0\n",
    "    int productoTotal = 0;\n",
    "    MPI_Reduce(&productoLocal, &productoTotal, 1, MPI_INT, MPI_SUM, 0, MPI_COMM_WORLD);\n",
    "    \n",
    "    if (rank == 0) { // Solo el proceso 0 muestra el resultado\n",
    "        std::cout << \"Producto punto total: \" << productoTotal << std::endl;\n",
    "    }\n",
    "    \n",
    "    MPI_Finalize(); // Finaliza MPI\n",
    "    return 0;\n",
    "}\n",
    "\n",
    "```"
   ]
  },
  {
   "cell_type": "markdown",
   "metadata": {},
   "source": []
  }
 ],
 "metadata": {
  "language_info": {
   "name": "python"
  }
 },
 "nbformat": 4,
 "nbformat_minor": 2
}
